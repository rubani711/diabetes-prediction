{
 "cells": [
  {
   "cell_type": "markdown",
   "metadata": {},
   "source": [
    "# Decision Tree"
   ]
  },
  {
   "cell_type": "code",
   "execution_count": 51,
   "metadata": {},
   "outputs": [],
   "source": [
    "import numpy as np\n",
    "import pandas as pd\n",
    "import seaborn as sns\n",
    "import matplotlib.pyplot as plt"
   ]
  },
  {
   "cell_type": "markdown",
   "metadata": {},
   "source": [
    "## Data Wrangling"
   ]
  },
  {
   "cell_type": "code",
   "execution_count": 52,
   "metadata": {},
   "outputs": [
    {
     "data": {
      "text/html": [
       "<div>\n",
       "<style scoped>\n",
       "    .dataframe tbody tr th:only-of-type {\n",
       "        vertical-align: middle;\n",
       "    }\n",
       "\n",
       "    .dataframe tbody tr th {\n",
       "        vertical-align: top;\n",
       "    }\n",
       "\n",
       "    .dataframe thead th {\n",
       "        text-align: right;\n",
       "    }\n",
       "</style>\n",
       "<table border=\"1\" class=\"dataframe\">\n",
       "  <thead>\n",
       "    <tr style=\"text-align: right;\">\n",
       "      <th></th>\n",
       "      <th>Pregnancies</th>\n",
       "      <th>Glucose</th>\n",
       "      <th>BloodPressure</th>\n",
       "      <th>SkinThickness</th>\n",
       "      <th>Insulin</th>\n",
       "      <th>BMI</th>\n",
       "      <th>DiabetesPedigreeFunction</th>\n",
       "      <th>Age</th>\n",
       "      <th>Outcome</th>\n",
       "    </tr>\n",
       "  </thead>\n",
       "  <tbody>\n",
       "    <tr>\n",
       "      <th>0</th>\n",
       "      <td>6</td>\n",
       "      <td>148</td>\n",
       "      <td>72</td>\n",
       "      <td>35</td>\n",
       "      <td>0</td>\n",
       "      <td>33.6</td>\n",
       "      <td>0.627</td>\n",
       "      <td>50</td>\n",
       "      <td>1</td>\n",
       "    </tr>\n",
       "    <tr>\n",
       "      <th>1</th>\n",
       "      <td>1</td>\n",
       "      <td>85</td>\n",
       "      <td>66</td>\n",
       "      <td>29</td>\n",
       "      <td>0</td>\n",
       "      <td>26.6</td>\n",
       "      <td>0.351</td>\n",
       "      <td>31</td>\n",
       "      <td>0</td>\n",
       "    </tr>\n",
       "    <tr>\n",
       "      <th>2</th>\n",
       "      <td>8</td>\n",
       "      <td>183</td>\n",
       "      <td>64</td>\n",
       "      <td>0</td>\n",
       "      <td>0</td>\n",
       "      <td>23.3</td>\n",
       "      <td>0.672</td>\n",
       "      <td>32</td>\n",
       "      <td>1</td>\n",
       "    </tr>\n",
       "    <tr>\n",
       "      <th>3</th>\n",
       "      <td>1</td>\n",
       "      <td>89</td>\n",
       "      <td>66</td>\n",
       "      <td>23</td>\n",
       "      <td>94</td>\n",
       "      <td>28.1</td>\n",
       "      <td>0.167</td>\n",
       "      <td>21</td>\n",
       "      <td>0</td>\n",
       "    </tr>\n",
       "    <tr>\n",
       "      <th>4</th>\n",
       "      <td>0</td>\n",
       "      <td>137</td>\n",
       "      <td>40</td>\n",
       "      <td>35</td>\n",
       "      <td>168</td>\n",
       "      <td>43.1</td>\n",
       "      <td>2.288</td>\n",
       "      <td>33</td>\n",
       "      <td>1</td>\n",
       "    </tr>\n",
       "  </tbody>\n",
       "</table>\n",
       "</div>"
      ],
      "text/plain": [
       "   Pregnancies  Glucose  BloodPressure  SkinThickness  Insulin   BMI  \\\n",
       "0            6      148             72             35        0  33.6   \n",
       "1            1       85             66             29        0  26.6   \n",
       "2            8      183             64              0        0  23.3   \n",
       "3            1       89             66             23       94  28.1   \n",
       "4            0      137             40             35      168  43.1   \n",
       "\n",
       "   DiabetesPedigreeFunction  Age  Outcome  \n",
       "0                     0.627   50        1  \n",
       "1                     0.351   31        0  \n",
       "2                     0.672   32        1  \n",
       "3                     0.167   21        0  \n",
       "4                     2.288   33        1  "
      ]
     },
     "execution_count": 52,
     "metadata": {},
     "output_type": "execute_result"
    }
   ],
   "source": [
    "data=pd.read_csv(\"diabetes.csv\")\n",
    "data.head()"
   ]
  },
  {
   "cell_type": "code",
   "execution_count": 53,
   "metadata": {},
   "outputs": [
    {
     "name": "stdout",
     "output_type": "stream",
     "text": [
      "<class 'pandas.core.frame.DataFrame'>\n",
      "RangeIndex: 768 entries, 0 to 767\n",
      "Data columns (total 9 columns):\n",
      "Pregnancies                 768 non-null int64\n",
      "Glucose                     768 non-null int64\n",
      "BloodPressure               768 non-null int64\n",
      "SkinThickness               768 non-null int64\n",
      "Insulin                     768 non-null int64\n",
      "BMI                         768 non-null float64\n",
      "DiabetesPedigreeFunction    768 non-null float64\n",
      "Age                         768 non-null int64\n",
      "Outcome                     768 non-null int64\n",
      "dtypes: float64(2), int64(7)\n",
      "memory usage: 54.1 KB\n"
     ]
    }
   ],
   "source": [
    "data.info()"
   ]
  },
  {
   "cell_type": "code",
   "execution_count": 54,
   "metadata": {},
   "outputs": [],
   "source": [
    "from sklearn.tree import DecisionTreeClassifier\n",
    "from sklearn.linear_model import LogisticRegression\n",
    "from sklearn.model_selection import train_test_split\n",
    "from sklearn import metrics\n",
    "from sklearn import svm"
   ]
  },
  {
   "cell_type": "markdown",
   "metadata": {},
   "source": [
    "## Split into training and testing data"
   ]
  },
  {
   "cell_type": "code",
   "execution_count": 55,
   "metadata": {},
   "outputs": [],
   "source": [
    "train,test=train_test_split(data,test_size=0.25,random_state=0,stratify=data['Outcome'])\n",
    "train_X=train[train.columns[:8]]              # Feature Matrix\n",
    "train_Y=train['Outcome']                      # Target Matrix\n",
    "test_X=test[train.columns[:8]]\n",
    "test_Y=test['Outcome']"
   ]
  },
  {
   "cell_type": "code",
   "execution_count": 56,
   "metadata": {},
   "outputs": [
    {
     "data": {
      "text/html": [
       "<div>\n",
       "<style scoped>\n",
       "    .dataframe tbody tr th:only-of-type {\n",
       "        vertical-align: middle;\n",
       "    }\n",
       "\n",
       "    .dataframe tbody tr th {\n",
       "        vertical-align: top;\n",
       "    }\n",
       "\n",
       "    .dataframe thead th {\n",
       "        text-align: right;\n",
       "    }\n",
       "</style>\n",
       "<table border=\"1\" class=\"dataframe\">\n",
       "  <thead>\n",
       "    <tr style=\"text-align: right;\">\n",
       "      <th></th>\n",
       "      <th>Pregnancies</th>\n",
       "      <th>Glucose</th>\n",
       "      <th>BloodPressure</th>\n",
       "      <th>SkinThickness</th>\n",
       "      <th>Insulin</th>\n",
       "      <th>BMI</th>\n",
       "      <th>DiabetesPedigreeFunction</th>\n",
       "      <th>Age</th>\n",
       "    </tr>\n",
       "  </thead>\n",
       "  <tbody>\n",
       "    <tr>\n",
       "      <th>147</th>\n",
       "      <td>2</td>\n",
       "      <td>106</td>\n",
       "      <td>64</td>\n",
       "      <td>35</td>\n",
       "      <td>119</td>\n",
       "      <td>30.5</td>\n",
       "      <td>1.400</td>\n",
       "      <td>34</td>\n",
       "    </tr>\n",
       "    <tr>\n",
       "      <th>565</th>\n",
       "      <td>2</td>\n",
       "      <td>95</td>\n",
       "      <td>54</td>\n",
       "      <td>14</td>\n",
       "      <td>88</td>\n",
       "      <td>26.1</td>\n",
       "      <td>0.748</td>\n",
       "      <td>22</td>\n",
       "    </tr>\n",
       "    <tr>\n",
       "      <th>390</th>\n",
       "      <td>1</td>\n",
       "      <td>100</td>\n",
       "      <td>66</td>\n",
       "      <td>29</td>\n",
       "      <td>196</td>\n",
       "      <td>32.0</td>\n",
       "      <td>0.444</td>\n",
       "      <td>42</td>\n",
       "    </tr>\n",
       "    <tr>\n",
       "      <th>736</th>\n",
       "      <td>0</td>\n",
       "      <td>126</td>\n",
       "      <td>86</td>\n",
       "      <td>27</td>\n",
       "      <td>120</td>\n",
       "      <td>27.4</td>\n",
       "      <td>0.515</td>\n",
       "      <td>21</td>\n",
       "    </tr>\n",
       "    <tr>\n",
       "      <th>587</th>\n",
       "      <td>6</td>\n",
       "      <td>103</td>\n",
       "      <td>66</td>\n",
       "      <td>0</td>\n",
       "      <td>0</td>\n",
       "      <td>24.3</td>\n",
       "      <td>0.249</td>\n",
       "      <td>29</td>\n",
       "    </tr>\n",
       "  </tbody>\n",
       "</table>\n",
       "</div>"
      ],
      "text/plain": [
       "     Pregnancies  Glucose  BloodPressure  SkinThickness  Insulin   BMI  \\\n",
       "147            2      106             64             35      119  30.5   \n",
       "565            2       95             54             14       88  26.1   \n",
       "390            1      100             66             29      196  32.0   \n",
       "736            0      126             86             27      120  27.4   \n",
       "587            6      103             66              0        0  24.3   \n",
       "\n",
       "     DiabetesPedigreeFunction  Age  \n",
       "147                     1.400   34  \n",
       "565                     0.748   22  \n",
       "390                     0.444   42  \n",
       "736                     0.515   21  \n",
       "587                     0.249   29  "
      ]
     },
     "execution_count": 56,
     "metadata": {},
     "output_type": "execute_result"
    }
   ],
   "source": [
    "train_X.head(2)\n",
    "test_X.head()\n"
   ]
  },
  {
   "cell_type": "code",
   "execution_count": 57,
   "metadata": {},
   "outputs": [
    {
     "name": "stdout",
     "output_type": "stream",
     "text": [
      "Accuracy of  tree algorithm = 0.7552083333333334\n"
     ]
    }
   ],
   "source": [
    "model=DecisionTreeClassifier()\n",
    "model.fit(train_X,train_Y)\n",
    "prediction=model.predict(test_X)\n",
    "print('Accuracy of  tree algorithm =',metrics.accuracy_score(prediction,test_Y))\n"
   ]
  },
  {
   "cell_type": "code",
   "execution_count": 58,
   "metadata": {},
   "outputs": [
    {
     "name": "stdout",
     "output_type": "stream",
     "text": [
      "Accuracy of LR = 0.7760416666666666\n"
     ]
    },
    {
     "name": "stderr",
     "output_type": "stream",
     "text": [
      "C:\\Users\\RUBANI BHATIA\\Anaconda3\\lib\\site-packages\\sklearn\\linear_model\\logistic.py:433: FutureWarning: Default solver will be changed to 'lbfgs' in 0.22. Specify a solver to silence this warning.\n",
      "  FutureWarning)\n"
     ]
    }
   ],
   "source": [
    "model=LogisticRegression()\n",
    "model.fit(train_X,train_Y)\n",
    "prediction=model.predict(test_X)\n",
    "print('Accuracy of LR =',metrics.accuracy_score(prediction,test_Y))"
   ]
  },
  {
   "cell_type": "code",
   "execution_count": 59,
   "metadata": {},
   "outputs": [],
   "source": [
    "model=svm.SVC(kernel='linear')\n",
    "model.fit(train_X,train_Y)\n",
    "prediction=model.predict(test_X)"
   ]
  },
  {
   "cell_type": "code",
   "execution_count": 60,
   "metadata": {},
   "outputs": [
    {
     "name": "stdout",
     "output_type": "stream",
     "text": [
      "Accuracy of linear svm = 0.7708333333333334\n"
     ]
    }
   ],
   "source": [
    "print('Accuracy of linear svm =',metrics.accuracy_score(prediction,test_Y))"
   ]
  },
  {
   "cell_type": "code",
   "execution_count": 61,
   "metadata": {},
   "outputs": [],
   "source": [
    "def fun():\n",
    "    lis1=[]\n",
    "    a1=pregnancies.get()\n",
    "    a2=glucose.get()\n",
    "    a3=bloodPressure.get()\n",
    "    a4=skinThickness.get()\n",
    "    a5=insulin.get()\n",
    "    a6=bmi.get()\n",
    "    a7=diabetesPedigreeFunction.get()\n",
    "    a8=age.get()\n",
    "\n",
    "    lis1.append(a1)\n",
    "    lis1.append(a2)\n",
    "    lis1.append(a3)\n",
    "    lis1.append(a4)\n",
    "    lis1.append(a5)\n",
    "    lis1.append(a6)\n",
    "    lis1.append(a7)\n",
    "    lis1.append(a8)\n",
    "    \n",
    "    \n",
    "    \n",
    "    \n",
    "    ind=['Pregnancies','Glucose','BloodPressure','SkinThickness','Insulin','BMI','DiabetesPedigreeFunction','Age']\n",
    "    test_x1=pd.DataFrame(lis1,index=ind)\n",
    "    \n",
    "    model=LogisticRegression()\n",
    "    model.fit(train_X,train_Y)\n",
    "    prediction=model.predict(test_x1.T)\n",
    "    print(prediction)\n",
    "   \n",
    "    if prediction==0:\n",
    "        cv.create_text(750,550,text='NEGATIVE',font= ('arial', 14, 'bold'),fill='blue',anchor='nw',tags=('label'))\n",
    "    else:\n",
    "        cv.create_text(750,550,text='POSITIVE',font= ('arial', 14, 'bold'),fill='green',anchor='nw',tags=('label'))\n",
    "        \n",
    "def reset():\n",
    "    pregnancies.set(\"\")\n",
    "    glucose.set(\"\")\n",
    "    bloodPressure.set(\"\")\n",
    "    skinThickness.set(\"\")\n",
    "    insulin.set(\"\")\n",
    "    bmi.set(\"\")\n",
    "    diabetesPedigreeFunction.set(\"\")\n",
    "    age.set(\"\")\n",
    "    cv.delete('label')"
   ]
  },
  {
   "cell_type": "code",
   "execution_count": 62,
   "metadata": {},
   "outputs": [
    {
     "name": "stderr",
     "output_type": "stream",
     "text": [
      "C:\\Users\\RUBANI BHATIA\\Anaconda3\\lib\\site-packages\\sklearn\\linear_model\\logistic.py:433: FutureWarning: Default solver will be changed to 'lbfgs' in 0.22. Specify a solver to silence this warning.\n",
      "  FutureWarning)\n"
     ]
    },
    {
     "name": "stdout",
     "output_type": "stream",
     "text": [
      "[1]\n"
     ]
    },
    {
     "name": "stderr",
     "output_type": "stream",
     "text": [
      "C:\\Users\\RUBANI BHATIA\\Anaconda3\\lib\\site-packages\\sklearn\\linear_model\\logistic.py:433: FutureWarning: Default solver will be changed to 'lbfgs' in 0.22. Specify a solver to silence this warning.\n",
      "  FutureWarning)\n"
     ]
    },
    {
     "name": "stdout",
     "output_type": "stream",
     "text": [
      "[1]\n"
     ]
    }
   ],
   "source": [
    "from tkinter import*\n",
    "import tkinter as tk\n",
    "\n",
    "root = tk.Tk()\n",
    "root.title('DIABETICS ANALSIS AND PREDICTION')\n",
    "root.geometry(\"1260x660\")\n",
    "root.resizable(0, 0)\n",
    "\n",
    "menu1=Menu(root)\n",
    "root.config(menu=menu1)\n",
    "\n",
    "fileMenu=Menu(menu1)  \n",
    "menu1.add_cascade(label=\"FILE\",menu=fileMenu)\n",
    "fileMenu.add_command(label=\"Reset\",command=reset)      \n",
    "fileMenu.add_command(label=\"Exit\",command=root.destroy)\n",
    "\n",
    "graphMenu=Menu(menu1)\n",
    "menu1.add_cascade(label=\"GRAPH ANALYSIS\",menu=graphMenu)                    \n",
    "graphMenu.add_command(label=\"Heatmap\")\n",
    "\n",
    "cv = tk.Canvas(width=600, height=600)\n",
    "cv.pack(side='top', fill='both', expand='yes')\n",
    "\n",
    "fname =\"diabetics.gif\"\n",
    "bg_image = tk.PhotoImage(file=fname)\n",
    "cv.create_image(0,0, image=bg_image, anchor='nw')\n",
    "\n",
    "\n",
    "cv.create_text(400,120, text=\"Pregnancies\",font=(\"Helvetica\", 15,'bold'),fill=\"black\", anchor='nw')\n",
    "cv.create_text(400,160, text=\"Glucose\",font=(\"Helvetica\", 15,'bold'),fill=\"black\", anchor='nw')\n",
    "cv.create_text(400,200, text=\"BloodPressure\",font=(\"Helvetica\", 15,'bold'),fill=\"black\", anchor='nw')\n",
    "cv.create_text(400,240, text=\"SkinThickness\",font=(\"Helvetica\", 15,'bold'),fill=\"black\", anchor='nw')\n",
    "cv.create_text(400,280, text=\"Insulin\",font=(\"Helvetica\", 15,'bold'),fill=\"black\", anchor='nw')\n",
    "cv.create_text(400,320, text=\"BMI\",font=(\"Helvetica\", 15,'bold'),fill=\"black\", anchor='nw')\n",
    "cv.create_text(400,360, text=\"DiabetesPedigreeFunction\",font=(\"Helvetica\", 15,'bold'),fill=\"black\", anchor='nw')\n",
    "cv.create_text(400,400, text=\"Age\",font=(\"Helvetica\", 15,'bold'),fill=\"black\", anchor='nw')\n",
    "\n",
    "pregnancies = StringVar()\n",
    "glucose= StringVar()\n",
    "bloodPressure= StringVar()\n",
    "skinThickness= StringVar()\n",
    "insulin= StringVar()\n",
    "bmi= StringVar()\n",
    "diabetesPedigreeFunction= StringVar()\n",
    "age= StringVar()\n",
    "\n",
    "entry0=tk.Entry(cv,textvariable = pregnancies, font = ('arial', 14, 'bold'), bd = 8, insertwidth = 4,\n",
    "                justify = 'left').place(x=650,y=120,anchor='nw' )\n",
    "entry1=tk.Entry(cv,textvariable = glucose, font = ('arial', 14, 'bold'), bd = 8, insertwidth = 4,\n",
    "                justify = 'left').place(x=650,y=160,anchor='nw' )\n",
    "entry2=tk.Entry(cv,textvariable = bloodPressure, font = ('arial', 14, 'bold'), bd = 8, insertwidth = 4,\n",
    "                justify = 'left').place(x=650,y=200,anchor='nw' )\n",
    "entry3=tk.Entry(cv,textvariable = skinThickness, font = ('arial', 14, 'bold'), bd = 8, insertwidth = 4,\n",
    "                justify = 'left').place(x=650,y=240,anchor='nw' )\n",
    "entry4=tk.Entry(cv,textvariable = insulin, font = ('arial', 14, 'bold'), bd = 8, insertwidth = 4,\n",
    "                justify = 'left').place(x=650,y=280,anchor='nw' )\n",
    "entry5=tk.Entry(cv,textvariable = bmi, font = ('arial', 14, 'bold'), bd = 8, insertwidth = 4,\n",
    "                justify = 'left').place(x=650,y=320,anchor='nw' )\n",
    "entry6=tk.Entry(cv,textvariable = diabetesPedigreeFunction, font = ('arial', 14, 'bold'), bd = 8, insertwidth = 4,\n",
    "                justify = 'left').place(x=650,y=360,anchor='nw' )\n",
    "entry7=tk.Entry(cv,textvariable = age, font = ('arial', 14, 'bold'), bd = 8, insertwidth = 4,\n",
    "                justify = 'left').place(x=650,y=400,anchor='nw' )\n",
    "\n",
    "btn=tk.Button(cv,text=\"SHOW RESULT\",font=('arial',18,'bold'),command=fun)\n",
    "btn.place(x=700,y=500,anchor='se')\n",
    "#button=Button(cv,text = \"Show Result\", command=fun, padx = 16, pady = 8, bd = 8, fg = \"black\",\n",
    "#font = ('arial', 14, 'bold'), width = 12, bg = \"aquamarine\")\n",
    "#button.grid(row=8,column=1)\n",
    "\n",
    "root.mainloop()"
   ]
  },
  {
   "cell_type": "code",
   "execution_count": null,
   "metadata": {},
   "outputs": [],
   "source": []
  },
  {
   "cell_type": "code",
   "execution_count": null,
   "metadata": {},
   "outputs": [],
   "source": []
  },
  {
   "cell_type": "code",
   "execution_count": null,
   "metadata": {},
   "outputs": [],
   "source": []
  },
  {
   "cell_type": "code",
   "execution_count": null,
   "metadata": {},
   "outputs": [],
   "source": []
  }
 ],
 "metadata": {
  "kernelspec": {
   "display_name": "Python 3",
   "language": "python",
   "name": "python3"
  },
  "language_info": {
   "codemirror_mode": {
    "name": "ipython",
    "version": 3
   },
   "file_extension": ".py",
   "mimetype": "text/x-python",
   "name": "python",
   "nbconvert_exporter": "python",
   "pygments_lexer": "ipython3",
   "version": "3.7.3"
  }
 },
 "nbformat": 4,
 "nbformat_minor": 2
}
